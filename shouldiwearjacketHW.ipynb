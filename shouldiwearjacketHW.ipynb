{
 "cells": [
  {
   "cell_type": "code",
   "execution_count": 11,
   "metadata": {},
   "outputs": [
    {
     "name": "stdin",
     "output_type": "stream",
     "text": [
      "Is it raining? ps say True or False False\n",
      "Is it cold? ps also say True or False False\n"
     ]
    },
    {
     "name": "stdout",
     "output_type": "stream",
     "text": [
      "You dont need a jacket!\n"
     ]
    }
   ],
   "source": [
    "raining=input('Is it raining? ps say True or False')\n",
    "cold=input('Is it cold? ps also say True or False')\n",
    "if raining == 'True' or cold =='True':\n",
    "    print('Wear your jacket outside!')\n",
    "else:\n",
    "    print ('You dont need a jacket!')"
   ]
  },
  {
   "cell_type": "code",
   "execution_count": null,
   "metadata": {},
   "outputs": [],
   "source": []
  }
 ],
 "metadata": {
  "kernelspec": {
   "display_name": "Python 3",
   "language": "python",
   "name": "python3"
  },
  "language_info": {
   "codemirror_mode": {
    "name": "ipython",
    "version": 3
   },
   "file_extension": ".py",
   "mimetype": "text/x-python",
   "name": "python",
   "nbconvert_exporter": "python",
   "pygments_lexer": "ipython3",
   "version": "3.7.6"
  }
 },
 "nbformat": 4,
 "nbformat_minor": 4
}
